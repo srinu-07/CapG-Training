{
 "cells": [
  {
   "cell_type": "code",
   "execution_count": 19,
   "metadata": {},
   "outputs": [
    {
     "name": "stdout",
     "output_type": "stream",
     "text": [
      "Hello Venkat\n",
      "Hello Venkat\n"
     ]
    }
   ],
   "source": [
    "first_name = \"Venkat\"\n",
    "print(f\"Hello {first_name}\")\n",
    "print(\"Hello {}\".format(first_name))"
   ]
  },
  {
   "cell_type": "code",
   "execution_count": 20,
   "metadata": {},
   "outputs": [
    {
     "name": "stdout",
     "output_type": "stream",
     "text": [
      "Hello Venkat AIDS\n"
     ]
    }
   ],
   "source": [
    "last_name = \"AIDS\"\n",
    "print(f\"Hello {first_name} {last_name}\")"
   ]
  },
  {
   "cell_type": "code",
   "execution_count": 7,
   "metadata": {},
   "outputs": [
    {
     "name": "stdout",
     "output_type": "stream",
     "text": [
      "Name:Venkat\n",
      "Address:Krishna Nagar\n",
      "Phone:8886088346\n",
      "Pincode:500045\n"
     ]
    }
   ],
   "source": [
    "name = input()\n",
    "address = input()\n",
    "phone = input()\n",
    "pincode = input()\n",
    "print(f\"Name:{name}\")\n",
    "print(f\"Address:{address}\")\n",
    "print(f\"Phone:{phone}\")\n",
    "print(f\"Pincode:{pincode}\")"
   ]
  },
  {
   "cell_type": "code",
   "execution_count": 14,
   "metadata": {},
   "outputs": [
    {
     "name": "stdout",
     "output_type": "stream",
     "text": [
      "1020 30.0 30\n"
     ]
    }
   ],
   "source": [
    "num1, num2 = map(str, input().split())\n",
    "sum1 = num1 + num2\n",
    "sum2 = float(num1) + float(num2)\n",
    "sum3 = int(num1) + int(num2)\n",
    "print(sum1, sum2, sum3)\n"
   ]
  },
  {
   "cell_type": "code",
   "execution_count": 18,
   "metadata": {},
   "outputs": [
    {
     "name": "stdout",
     "output_type": "stream",
     "text": [
      "255.0 250\n"
     ]
    }
   ],
   "source": [
    "n = 255\n",
    "ans = n / 10 * 10\n",
    "ans1 = n // 10 * 10\n",
    "print(ans, ans1)"
   ]
  },
  {
   "cell_type": "code",
   "execution_count": 25,
   "metadata": {},
   "outputs": [
    {
     "name": "stdout",
     "output_type": "stream",
     "text": [
      "0.233015993670872\n",
      "8539\n",
      "8285\n",
      "<bound method Random.choice of <random.Random object at 0x0000022099E85E30>>\n"
     ]
    }
   ],
   "source": [
    "import random\n",
    "num = random.random()\n",
    "print(num)\n",
    "n = random.randrange(1, 10000)\n",
    "n1 = random.randint(1, 10000)\n",
    "n2 = random.choice\n",
    "print(n)\n",
    "print(n1)\n",
    "print(n2)"
   ]
  },
  {
   "cell_type": "code",
   "execution_count": 30,
   "metadata": {},
   "outputs": [
    {
     "name": "stdout",
     "output_type": "stream",
     "text": [
      "Root1 = -0.320550528229663\n",
      "Root2 = -4.6794494717703365\n",
      "Roots are Real and disinct\n"
     ]
    }
   ],
   "source": [
    "a, b, c = map(int, input().split())\n",
    "discriminant = (b*b) - (4 * a * c)\n",
    "if discriminant > 0:\n",
    "    root1 = ((-b) + (discriminant ** 0.5)) / (2*a)\n",
    "    root2 = ((-b) - (discriminant ** 0.5)) / (2*a) \n",
    "    print(f\"Root1 = {root1}\\nRoot2 = {root2}\")\n",
    "    print(\"Roots are Real and disinct\")\n",
    "elif discriminant == 0:\n",
    "    root1 = -b / (2*a)\n",
    "    root2 = b / (2*a)\n",
    "    print(f\"Root1 = {root1}\\nRoot2 = {root2}\")\n",
    "    print(\"Roots are real\")\n",
    "else:\n",
    "    print(\"Roots are Imaginary\")\n"
   ]
  },
  {
   "cell_type": "code",
   "execution_count": 37,
   "metadata": {},
   "outputs": [
    {
     "name": "stdout",
     "output_type": "stream",
     "text": [
      "1.6094379124341003\n"
     ]
    }
   ],
   "source": [
    "import math\n",
    "print(math.log(5))"
   ]
  },
  {
   "cell_type": "code",
   "execution_count": 38,
   "metadata": {},
   "outputs": [
    {
     "name": "stdout",
     "output_type": "stream",
     "text": [
      "Square root of 16: 4.0\n"
     ]
    }
   ],
   "source": [
    "import math\n",
    "number = 16\n",
    "result = math.sqrt(number)\n",
    "print(\"Square root of 16:\", result)"
   ]
  },
  {
   "cell_type": "code",
   "execution_count": 40,
   "metadata": {},
   "outputs": [
    {
     "name": "stdout",
     "output_type": "stream",
     "text": [
      "2 raised to the power 3: 8.0\n"
     ]
    }
   ],
   "source": [
    "base = 2\n",
    "exponent = 3\n",
    "result = math.pow(base, exponent)\n",
    "print(\"2 raised to the power 3:\", result)"
   ]
  },
  {
   "cell_type": "code",
   "execution_count": 41,
   "metadata": {},
   "outputs": [
    {
     "name": "stdout",
     "output_type": "stream",
     "text": [
      "Absolute value of -7: 7\n"
     ]
    }
   ],
   "source": [
    "number = -7\n",
    "result = abs(number)\n",
    "print(\"Absolute value of -7:\", result)"
   ]
  },
  {
   "cell_type": "code",
   "execution_count": 42,
   "metadata": {},
   "outputs": [
    {
     "name": "stdout",
     "output_type": "stream",
     "text": [
      "Sine of 30 degrees: 0.49999999999999994\n"
     ]
    }
   ],
   "source": [
    "import math\n",
    "angle = math.radians(30)\n",
    "result = math.sin(angle)\n",
    "print(\"Sine of 30 degrees:\", result)"
   ]
  },
  {
   "cell_type": "code",
   "execution_count": 43,
   "metadata": {},
   "outputs": [
    {
     "name": "stdout",
     "output_type": "stream",
     "text": [
      "Cosine of 60 degrees: 0.5000000000000001\n"
     ]
    }
   ],
   "source": [
    "angle = math.radians(60)\n",
    "result = math.cos(angle)\n",
    "print(\"Cosine of 60 degrees:\", result)"
   ]
  },
  {
   "cell_type": "code",
   "execution_count": 44,
   "metadata": {},
   "outputs": [
    {
     "name": "stdout",
     "output_type": "stream",
     "text": [
      "Tangent of 45 degrees: 0.9999999999999999\n"
     ]
    }
   ],
   "source": [
    "angle = math.radians(45)\n",
    "result = math.tan(angle)\n",
    "print(\"Tangent of 45 degrees:\", result)"
   ]
  },
  {
   "cell_type": "code",
   "execution_count": 45,
   "metadata": {},
   "outputs": [
    {
     "name": "stdout",
     "output_type": "stream",
     "text": [
      "Natural logarithm of 10: 2.302585092994046\n"
     ]
    }
   ],
   "source": [
    "number = 10\n",
    "result = math.log(number)\n",
    "print(\"Natural logarithm of 10:\", result)"
   ]
  },
  {
   "cell_type": "code",
   "execution_count": 46,
   "metadata": {},
   "outputs": [
    {
     "name": "stdout",
     "output_type": "stream",
     "text": [
      "Logarithm base 10 of 100: 2.0\n"
     ]
    }
   ],
   "source": [
    "result = math.log10(100)\n",
    "print(\"Logarithm base 10 of 100:\", result)"
   ]
  },
  {
   "cell_type": "code",
   "execution_count": 47,
   "metadata": {},
   "outputs": [
    {
     "name": "stdout",
     "output_type": "stream",
     "text": [
      "Value of Pi: 3.141592653589793\n"
     ]
    }
   ],
   "source": [
    "import math\n",
    "print(\"Value of Pi:\", math.pi)"
   ]
  },
  {
   "cell_type": "code",
   "execution_count": 48,
   "metadata": {},
   "outputs": [
    {
     "name": "stdout",
     "output_type": "stream",
     "text": [
      "Value of Euler's number (e): 2.718281828459045\n"
     ]
    }
   ],
   "source": [
    "print(\"Value of Euler's number (e):\", math.e)"
   ]
  },
  {
   "cell_type": "code",
   "execution_count": null,
   "metadata": {},
   "outputs": [],
   "source": []
  }
 ],
 "metadata": {
  "language_info": {
   "name": "python"
  }
 },
 "nbformat": 4,
 "nbformat_minor": 2
}
